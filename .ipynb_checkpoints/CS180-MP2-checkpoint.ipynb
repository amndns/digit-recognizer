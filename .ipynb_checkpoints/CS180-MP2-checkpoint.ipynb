{
 "cells": [
  {
   "cell_type": "markdown",
   "metadata": {},
   "source": [
    "# DIGIT RECOGNIZER USING NEURAL NETWORKS\n",
    "\n",
    "December 4, 2017"
   ]
  },
  {
   "cell_type": "markdown",
   "metadata": {},
   "source": [
    "Welcome! This IPython notebook will go through the implementation of a Feedforward Neural Network to solve the famous Handwritten Digit Recognition problem."
   ]
  },
  {
   "cell_type": "markdown",
   "metadata": {},
   "source": [
    "# 1. Introduction"
   ]
  },
  {
   "cell_type": "markdown",
   "metadata": {},
   "source": [
    "As a brief introduction, the task environment and the representation of the state is discussed below before diving into the discussion of the two search algorithms."
   ]
  },
  {
   "cell_type": "markdown",
   "metadata": {},
   "source": [
    "## 1.1 Handwritten Character Recognition"
   ]
  },
  {
   "cell_type": "markdown",
   "metadata": {},
   "source": [
    "Handwritten character recognition is the ability of a device to process input handwritten characters taken from printed physical documents or handwritten characters written from a touchscreen. The input handwritten digits are usually in the form of an image or a real-time recognition using a camera for optical scanning. The input is then fed to a pattern-recognition software for the recognition process. This technology is often used to extract characters from old printed documents for those documents to have a soft copy. In addition, handwritten character recognition is also used to recognize handwritten characters written from a touchscreen."
   ]
  },
  {
   "cell_type": "markdown",
   "metadata": {},
   "source": [
    "## 1.2 Handwritten Digits"
   ]
  },
  {
   "cell_type": "markdown",
   "metadata": {},
   "source": [
    "In this paper, we deal with a subset of handwritten characters which are handwritten digits. A database of handwritten digits, called MNIST database, is used to train and test a machine learning model for handwritten character recognition. In particular, the MNIST database is used in this paper to feed the feedforward neural network for training and testing. Furthermore, according to Yann LeCun, the MNIST database currently contains $60,000$ images for training and $10,000$ images for testing. The set of images in the MNIST database is the combination of two NIST databases: Special Database 1 and Special Database 2 which are gathered from American high school students and employees of the United States Census Bureau."
   ]
  },
  {
   "cell_type": "markdown",
   "metadata": {},
   "source": [
    "Further exploration and analysis of the MNIST dataset will be discussed in the methodology chapter below."
   ]
  },
  {
   "cell_type": "markdown",
   "metadata": {},
   "source": [
    "## 1.3 Objective"
   ]
  },
  {
   "cell_type": "markdown",
   "metadata": {},
   "source": [
    "The aim of this paper is to build a feedforward neural network for handwritten digit recognition using the scikit-learn machine learning library."
   ]
  },
  {
   "cell_type": "markdown",
   "metadata": {},
   "source": [
    "# 2. Methodology"
   ]
  },
  {
   "cell_type": "markdown",
   "metadata": {},
   "source": [
    "## 2.1 Data and Architecture"
   ]
  },
  {
   "cell_type": "markdown",
   "metadata": {},
   "source": [
    "### 2.1.1 MNIST Dataset"
   ]
  },
  {
   "cell_type": "markdown",
   "metadata": {},
   "source": [
    "As discussed in the previous chapter, the MNIST database contains $60,000$ training images and $10,000$ testing images. Each image contains features denoted as $X$ and target denoted as $y$."
   ]
  },
  {
   "cell_type": "markdown",
   "metadata": {},
   "source": [
    "Input $X$ is a matrix with a column size of $784$ and a row size depending on the number of images being fed to the feedforward neural net. Each row vector corresponds to each image of the MNIST data. An MNIST image, with $28x28$ pixel size, is flattened into a vector of $784$ pixels, where each pixel value has the range of $[0, 255]$, with $0$ being the hex color of $0x00$ and $255$ being the hex color of $0xFF$. As suggested by Ian Goodfellow, it is generally preferable to scale the pixel values to the range $[0, 1]$ for wider options of loss functions. Below is a collection of MNIST digits of the number $2$."
   ]
  },
  {
   "cell_type": "markdown",
   "metadata": {},
   "source": [
    "<img height=\"250\" width=\"250\" src=\"https://www.researchgate.net/profile/Guy_Mayraz/publication/2540340/figure/fig1/AS:279612820082697@1443676299495/Fig-2-Examples-of-2s-in-the-MNIST-database-first-100-examples-Note-the-very-diverse.png\">"
   ]
  },
  {
   "cell_type": "markdown",
   "metadata": {},
   "source": [
    "Similar to the input, target $y$ is a matrix where the row vectors of size $10$ are in a one-hot vector format. The one-hot vector format is a vector encoding where the vector is all-zero apart from one element. The index of the nonzero element dictates the category of the MNIST image. Each row vector corresponds to each of the MNIST examples."
   ]
  },
  {
   "cell_type": "markdown",
   "metadata": {},
   "source": [
    "*e.g.* An MNIST image containing the number $2$ has a target $y = [0, 0, 1, 0, 0, 0, 0, 0, 0, 0]$. An MNIST image containing the number $9$ has a target $y = [0, 0, 0, 0, 0, 0, 0, 0, 0, 1]$."
   ]
  },
  {
   "cell_type": "markdown",
   "metadata": {},
   "source": [
    "### 2.1.2 Architecture of the Neural Network"
   ]
  },
  {
   "cell_type": "markdown",
   "metadata": {},
   "source": [
    "The feedforward neural network (ANN) contains an input layer, $3$ hidden layer, and an output layer. The input layer has $784$ nodes, where each of the nodes corresponds to the pixel of an image. Preferably, the number of nodes in the hidden layer is between the number of nodes in the input layer and the number of nodes in the output layer. In our case, we chose an arbitrary number of $600$ nodes for the first hidden layer and 500 nodes for the rest of the hidden layers. Lastly, the output layer contains $10$ nodes corresponding to the one-hot vector format. The graph of the feedforward neural network is shown in the figure below. <h4> ##create a drawing of our neural network## </h4>"
   ]
  },
  {
   "cell_type": "markdown",
   "metadata": {},
   "source": [
    "Ideally, the output layer must be in a one-hot vector format where the layer’s nodes are all zero apart from one node. However, after the first forward propagation, it is expected that the output of the ANN is inaccurate. This is the reason we train the ANN for its output to be as accurate as possible. The details and implementation of the training will be further discussed in the following sections."
   ]
  },
  {
   "cell_type": "markdown",
   "metadata": {},
   "source": [
    "## 2.2 Python Implementation"
   ]
  },
  {
   "cell_type": "markdown",
   "metadata": {},
   "source": [
    "The feedforward neural network was implemented in scikit-learn, a machine learning library. The MNIST dataset was first retrieved from the scikit-learn collection of datasets."
   ]
  },
  {
   "cell_type": "code",
   "execution_count": 1,
   "metadata": {
    "collapsed": true
   },
   "outputs": [],
   "source": [
    "from sklearn.datasets import fetch_mldata\n",
    "\n",
    "mnist = fetch_mldata(\"MNIST original\")"
   ]
  },
  {
   "cell_type": "markdown",
   "metadata": {},
   "source": [
    "<br />The dataset was then separated into a training set containing $60,000$ handwritten images, and an encoded testing set containing $10,000$ handwritten images. We followed the training and testing data split of the original MNIST dataset since this was the best possible split of the MNIST dataset. We also further randomized the training and testing split. The training set contained the input $X_{train}$ and target $y_{train}$. The testing set also contained the input $X_{test}$ and target $y_{test}$. Moreover, since the original MNIST dataset input has pixel values of $0$ to $255$, we rescaled the input to make the input pixel values range from $0$ through $1$."
   ]
  },
  {
   "cell_type": "code",
   "execution_count": 2,
   "metadata": {},
   "outputs": [],
   "source": [
    "from sklearn.model_selection import train_test_split\n",
    "from sklearn.preprocessing import OneHotEncoder\n",
    "\n",
    "# Separate the dataset into training and testing\n",
    "X, y = mnist.data / 255., mnist.target\n",
    "X_train, X_test, y_train_un, y_test_un = train_test_split(X, y, \n",
    "                                                       test_size=0.14285, \n",
    "                                                       random_state=42)\n",
    "\n",
    "# Encode target y\n",
    "enc = OneHotEncoder()\n",
    "y_train = enc.fit_transform(y_train_un.reshape(-1,1), y=None).toarray()\n",
    "y_test = enc.fit_transform(y_test_un.reshape(-1,1), y=None).toarray()"
   ]
  },
  {
   "cell_type": "markdown",
   "metadata": {
    "collapsed": true
   },
   "source": [
    "<br />The ANN was then built using the built-in neural network model: MLPClassifier. The following parameters were used to configure the ANN. The solver we used for backpropagation was the *'sgd'* or stochastic gradient descent. The activation function we used was *‘logistic’*, known as the logistic sigmoid function. Moreover, we chose $3$ hidden layers each with $500$ neurons. Lastly, the maximum number of epochs or iterations for training was set to $100$. The maximum number of epochs of $100$ was chosen so that the ANN converges to a near-zero error rate while not prolonging the training time. The learning rate was also chosen to be $0.1$. The other parameters were not adjusted and were left to its default setting."
   ]
  },
  {
   "cell_type": "code",
   "execution_count": 3,
   "metadata": {
    "collapsed": true
   },
   "outputs": [],
   "source": [
    "from sklearn.neural_network import MLPClassifier\n",
    "\n",
    "# Build the feedforward neural network\n",
    "mlp = MLPClassifier(hidden_layer_sizes=(600,500,500), activation='relu', max_iter=100, \n",
    "                    alpha=1e-4, solver='sgd', verbose=10, tol=1e-4, random_state=1, \n",
    "                    learning_rate_init=0.1)"
   ]
  },
  {
   "cell_type": "markdown",
   "metadata": {
    "collapsed": true
   },
   "source": [
    "<br />Lastly, the ANN was then trained using the scikit-learn fit method. The ANN was trained using the $X_{train}$ and target $y_{train}$. The execution time was also measured for further analysis."
   ]
  },
  {
   "cell_type": "code",
   "execution_count": 4,
   "metadata": {},
   "outputs": [
    {
     "name": "stdout",
     "output_type": "stream",
     "text": [
      "Iteration 1, loss = 0.51711101\n",
      "Iteration 2, loss = 0.15635187\n",
      "Iteration 3, loss = 0.10373483\n",
      "Iteration 4, loss = 0.07495304\n",
      "Iteration 5, loss = 0.05768942\n",
      "Iteration 6, loss = 0.05298957\n",
      "Iteration 7, loss = 0.03868064\n",
      "Iteration 8, loss = 0.03264720\n",
      "Iteration 9, loss = 0.02607770\n",
      "Iteration 10, loss = 0.02567883\n",
      "Iteration 11, loss = 0.01968951\n",
      "Iteration 12, loss = 0.02287950\n",
      "Iteration 13, loss = 0.01499231\n",
      "Iteration 14, loss = 0.01352897\n",
      "Iteration 15, loss = 0.01008935\n",
      "Iteration 16, loss = 0.00937877\n",
      "Iteration 17, loss = 0.01368178\n",
      "Iteration 18, loss = 0.00681162\n",
      "Iteration 19, loss = 0.00862986\n",
      "Iteration 20, loss = 0.00947478\n",
      "Iteration 21, loss = 0.00602236\n",
      "Iteration 22, loss = 0.00145661\n",
      "Iteration 23, loss = 0.00105749\n",
      "Iteration 24, loss = 0.00094647\n",
      "Iteration 25, loss = 0.00090825\n",
      "Iteration 26, loss = 0.00089673\n",
      "Iteration 27, loss = 0.00088852\n",
      "Training loss did not improve more than tol=0.000100 for two consecutive epochs. Stopping.\n"
     ]
    }
   ],
   "source": [
    "import time\n",
    "\n",
    "# Train the feedforward neural network\n",
    "start = time.time()\n",
    "mlp.fit(X_train, y_train)\n",
    "end = time.time()"
   ]
  },
  {
   "cell_type": "markdown",
   "metadata": {
    "collapsed": true
   },
   "source": [
    "# 3. Data and Analysis"
   ]
  },
  {
   "cell_type": "markdown",
   "metadata": {},
   "source": [
    "The $10,000$ testing images were fed into our feedforward neural network to assess its performance. The images contain about $5,000$ images taken from the original NIST test set, which makes it more difficult to recognize. Clearly, the predictions of the model are used to assess its performance as shown in the latter part of this chapter. The distribution of the testing images is shown in the figure below."
   ]
  },
  {
   "cell_type": "code",
   "execution_count": 5,
   "metadata": {},
   "outputs": [
    {
     "data": {
      "image/png": "[encoded data removed]",
      "text/plain": [
       "<matplotlib.figure.Figure at 0x1459dddd8>"
      ]
     },
     "metadata": {},
     "output_type": "display_data"
    }
   ],
   "source": [
    "import matplotlib.pyplot as plt\n",
    "import numpy as np\n",
    "\n",
    "def bins_labels(bins, **kwargs):\n",
    "    bin_w = (max(bins) - min(bins)) / (len(bins) - 1)\n",
    "    plt.xticks(np.arange(min(bins)+bin_w/2, max(bins), bin_w), bins, **kwargs)\n",
    "    plt.xlim(bins[0], bins[-1])\n",
    "    \n",
    "bins = range(11)\n",
    "plt.hist(y_test_un, bins=bins, edgecolor='black')\n",
    "bins_labels(bins, fontsize=20)\n",
    "\n",
    "plt.title(\"Distribution of the Testing Data\")\n",
    "plt.xlabel(\"Target\")\n",
    "plt.ylabel(\"Frequency\")\n",
    "\n",
    "plt.show()"
   ]
  },
  {
   "cell_type": "markdown",
   "metadata": {
    "collapsed": true
   },
   "source": [
    "## 3.1 Accuracy Score"
   ]
  },
  {
   "cell_type": "markdown",
   "metadata": {
    "collapsed": true
   },
   "source": [
    "Accuracy is used to describe the closeness of a measurement to the true value. To evaluate the ANN, we used the accuracy score between the target value and the output of our model. The accuracy score is computed using scikit-learn’s built-in function: score. The function of accuracy uses an indicator function to check whether the target $y$ and the model prediction are equal. The indicator function outputs $1$ if they are equal, otherwise, it outputs $0$. It then gets the summation of the outputs of each target and prediction pair and normalizes it. The output of the function is between $0$, being the worst, and $1$, being the best."
   ]
  },
  {
   "cell_type": "markdown",
   "metadata": {
    "collapsed": true
   },
   "source": [
    "After the training process, the ANN was tested using the scikit-learn score method. The ANN was tested for its accuracy score for both the training datasets and testing datasets."
   ]
  },
  {
   "cell_type": "code",
   "execution_count": 6,
   "metadata": {},
   "outputs": [
    {
     "name": "stdout",
     "output_type": "stream",
     "text": [
      "Training set score: 1.000000\n",
      "Test set score: 0.983200\n",
      "Execution time: 535.214162\n"
     ]
    }
   ],
   "source": [
    "# Measure the training and testing accuracy scores\n",
    "print(\"Training set score: %f\" % mlp.score(X_train, y_train))\n",
    "print(\"Test set score: %f\" % mlp.score(X_test, y_test))\n",
    "print(\"Execution time: %f\" % (end - start))"
   ]
  },
  {
   "cell_type": "markdown",
   "metadata": {},
   "source": [
    "As illustrated above, the accuracy score of our model using the training data is $100\\%$. The error of the model converges to $0\\%$ on the training data. This is expected since the model is trained to familiarize itself with the training data thus having more accurate predictions on it. On the other hand, the model still performed exceptionally well using the testing data having a score of $98.32\\%$ in which the error converges to $1.68\\%$."
   ]
  },
  {
   "cell_type": "markdown",
   "metadata": {},
   "source": [
    "In addition, the training time took 483.506259 seconds or approximately 8.1 minutes on a 2.6 GHz Intel Core i5 machine. "
   ]
  },
  {
   "cell_type": "markdown",
   "metadata": {},
   "source": [
    "To put our model’s performance into context, we compare the results of five different feedforward neural networks used for digit recognition using the same MNIST dataset. There are four different feedforward neural networks created by LeCun in his 1998 paper about gradient-based learning for document recognition. We also used Hinton’s feedforward neural network as a point of comparison for our own model. This is illustrated in the table below, and the data was retreived from http://yann.lecun.com/exdb/mnist/."
   ]
  },
  {
   "cell_type": "markdown",
   "metadata": {},
   "source": [
    "|Model | Hidden Layers | Hidden Units | Accuracy Score\n",
    "| :-: | :-: | :-: | :-: |\n",
    "| Our Model | $$3$$ | $$600, 500, 500$$ | $$98.32\\%$$ |\n",
    "| LeCun et al. | $$1$$ | $$300$$ | $$95.3\\%$$ |\n",
    "| LeCun et al. | $$1$$ | $$1000$$ | $$95.5\\%$$ |\n",
    "| LeCun et al. | $$2$$ | $$300, 100$$ | $$96.95\\%$$ |\n",
    "| LeCun et al. | $$2$$ | $$500, 150$$ | $$97.05\\%$$ |\n",
    "| Hinton | $$5$$ | $$2500, 2000, 1500, 1000, 500$$ | $$99.65%$$ |"
   ]
  },
  {
   "cell_type": "markdown",
   "metadata": {},
   "source": [
    "## 3.2 Confusion Matrix"
   ]
  },
  {
   "cell_type": "markdown",
   "metadata": {},
   "source": [
    "The accuracy of the ANN was also evaluated using the confusion matrix. A confusion matrix is a statistical table layout that allows the visualization and evaluation of a machine learning model. Each row of the matrix represents the instances in an actual class while each column represents the instances in a predicted class. The entry $(i, j)$ means that a certain input is in the actual classification $i$ but is predicted by the model to be in group $j$."
   ]
  },
  {
   "cell_type": "markdown",
   "metadata": {},
   "source": [
    "Below is a method for both plotting a confusion matrix and decoding the one-hot vector format. The decoding only converts a one-hot vector back into its original integer representation."
   ]
  },
  {
   "cell_type": "code",
   "execution_count": 7,
   "metadata": {},
   "outputs": [],
   "source": [
    "from sklearn.metrics import confusion_matrix\n",
    "import itertools\n",
    "\n",
    "# This function prints and plots the confusion matrix.\n",
    "# Normalization can be applied by setting `normalize=True`.\n",
    "def plot_confusion_matrix(cm, classes,\n",
    "                          normalize=False,\n",
    "                          title='Confusion matrix',\n",
    "                          cmap=plt.cm.Blues):\n",
    "    if normalize:\n",
    "        cm = cm.astype('float') / cm.sum(axis=1)[:, np.newaxis]\n",
    "\n",
    "    plt.imshow(cm, interpolation='nearest', cmap=cmap)\n",
    "    plt.title(title)\n",
    "    plt.colorbar()\n",
    "    tick_marks = np.arange(len(classes))\n",
    "    plt.xticks(tick_marks, classes, rotation=45)\n",
    "    plt.yticks(tick_marks, classes)\n",
    "\n",
    "    fmt = '.2f' if normalize else 'd'\n",
    "    thresh = cm.max() / 2.\n",
    "    for i, j in itertools.product(range(cm.shape[0]), range(cm.shape[1])):\n",
    "        plt.text(j, i, format(cm[i, j], fmt),\n",
    "                 horizontalalignment=\"center\",\n",
    "                 color=\"white\" if cm[i, j] > thresh else \"black\")\n",
    "\n",
    "    plt.tight_layout()\n",
    "    plt.ylabel('True label')\n",
    "    plt.xlabel('Predicted label')\n",
    "    \n",
    "def decode(data):\n",
    "    data_new = np.array(data)\n",
    "    return np.argmax(data_new, axis=1)"
   ]
  },
  {
   "cell_type": "markdown",
   "metadata": {},
   "source": [
    "<br />As seen below, we run the model predictions once again and store it inside $y_{pred}$. We then compute the confusion matrix for our model's evaluation."
   ]
  },
  {
   "cell_type": "code",
   "execution_count": 8,
   "metadata": {},
   "outputs": [],
   "source": [
    "# Run model predictions on testing set\n",
    "y_pred = mlp.predict(X_test)\n",
    "\n",
    "# Compute confusion matrix\n",
    "cnf_matrix = confusion_matrix(y_test_un, decode(y_pred))\n",
    "np.set_printoptions(precision=2)"
   ]
  },
  {
   "cell_type": "markdown",
   "metadata": {},
   "source": [
    "<br />As illustrated below, we can see the values corresponding to the number of images identified. For instance, the value 974 in entry (0,0) means that 974 testing images was correctly classified by the model as digit 0. Moreover, we can observe that the model struggles with the digit $8$ by misclassifying it as digit $0$ for $7$ testing images. The model also struggles with digit $9$, misclassifying it as digit $4$ for $7$ testing images.  "
   ]
  },
  {
   "cell_type": "code",
   "execution_count": 9,
   "metadata": {},
   "outputs": [
    {
     "data": {
      "image/png": "[encoded data removed]",
      "text/plain": [
       "<matplotlib.figure.Figure at 0x14725d208>"
      ]
     },
     "metadata": {},
     "output_type": "display_data"
    }
   ],
   "source": [
    "# Plot non-normalized confusion matrix\n",
    "plt.figure()\n",
    "plot_confusion_matrix(cnf_matrix, classes=[0,1,2,3,4,5,6,7,8,9],\n",
    "                      title='Confusion matrix, without normalization')\n",
    "plt.show()"
   ]
  },
  {
   "cell_type": "markdown",
   "metadata": {},
   "source": [
    "Furthermore, as illustrated below, we can see the percentage of accuracy of the model for digits 0 through 9. The figure shows that the ANN is most accurate when recognizing digits $6$, $4$, $1$, and $0$ with $99\\%$ accuracy. The model, however, struggled with digit $9$ with a $3\\%$ error rate."
   ]
  },
  {
   "cell_type": "code",
   "execution_count": 10,
   "metadata": {},
   "outputs": [
    {
     "data": {
      "image/png": "[encoded data removed]",
      "text/plain": [
       "<matplotlib.figure.Figure at 0x1471f7940>"
      ]
     },
     "metadata": {},
     "output_type": "display_data"
    }
   ],
   "source": [
    "# Plot normalized confusion matrix\n",
    "plt.figure()\n",
    "plot_confusion_matrix(cnf_matrix, classes=[0,1,2,3,4,5,6,7,8,9], normalize=True,\n",
    "                      title='Normalized confusion matrix')\n",
    "\n",
    "plt.show()"
   ]
  },
  {
   "cell_type": "markdown",
   "metadata": {},
   "source": []
  }
 ],
 "metadata": {
  "kernelspec": {
   "display_name": "Python 3",
   "language": "python",
   "name": "python3"
  },
  "language_info": {
   "codemirror_mode": {
    "name": "ipython",
    "version": 3
   },
   "file_extension": ".py",
   "mimetype": "text/x-python",
   "name": "python",
   "nbconvert_exporter": "python",
   "pygments_lexer": "ipython3",
   "version": "3.6.2"
  }
 },
 "nbformat": 4,
 "nbformat_minor": 2
}
